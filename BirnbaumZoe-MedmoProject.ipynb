{
  "nbformat": 4,
  "nbformat_minor": 0,
  "metadata": {
    "colab": {
      "provenance": [],
      "authorship_tag": "ABX9TyMaiL9bX+Nc9w/CAo8CHyj5"
    },
    "kernelspec": {
      "name": "python3",
      "display_name": "Python 3"
    },
    "language_info": {
      "name": "python"
    }
  },
  "cells": [
    {
      "cell_type": "markdown",
      "source": [
        "# **Influences on Medmo Booking Rates**\n",
        "### Name: Zoe Birnbaum\n",
        "### Link to Github Pages: https://zbirnbaum.github.io/  "
      ],
      "metadata": {
        "id": "gPtpdUXl2fu1"
      }
    },
    {
      "cell_type": "markdown",
      "source": [
        "A note for professor and TAs: refer to your email for a notebook containing more information about the data set."
      ],
      "metadata": {
        "id": "vyHdGFjZTbE_"
      }
    },
    {
      "cell_type": "code",
      "execution_count": 5,
      "metadata": {
        "id": "4F9Dfy5-UIPT"
      },
      "outputs": [],
      "source": [
        "import pandas as pd\n",
        "import numpy as np\n",
        "import matplotlib.pyplot as plt"
      ]
    },
    {
      "cell_type": "markdown",
      "source": [
        "Read in data set from excel file:"
      ],
      "metadata": {
        "id": "gHehmLNEwcVc"
      }
    },
    {
      "cell_type": "code",
      "source": [
        "df = pd.read_excel('ds_proj.xlsx')"
      ],
      "metadata": {
        "id": "_oqT48iRYXgB"
      },
      "execution_count": 6,
      "outputs": []
    },
    {
      "cell_type": "markdown",
      "source": [
        "## Project Goals\n",
        "The goal of this project is to determine what factors influence booking rates at Medmo Inc., a healthcare in tech company. Medmo facilitates radiology appointments for their clients, both B2B and B2C. I, Zoe Birnbaum, will be analyzing their data set of all appointment requests to discover correlations between variables to identify what influences the likelihood that a requested appointment is booked.\n",
        "\n",
        "In terms of my working timeline, I plan to touch base with this project at least 2x per week until completion. I will be working in Python notebooks on Google CoLab, as well as publishing all milestones and final works to my public repository linked above. Additionally, I plan to connect with the company biweekly with project progress and updates. I have already met with them to discuss the statistics and questions they hope to have answered by the time of project completion."
      ],
      "metadata": {
        "id": "qIDU0TOsv3G8"
      }
    },
    {
      "cell_type": "markdown",
      "source": [
        "## The Data Set\n",
        "This data includes all requested appointments from the company's portal from April 2018 through February 2024. Attached to each request is information regarding geographic location of the patient, type of scan/appointment, B2B vs. B2C, stage of request, date and time of request (and booking, if applicable), and more. I chose to work with this data set because of my experience working with the company and personal interest in the healthcare in tech field. The set provides a sufficient amount of data, information, and variables to allow me to follow my goal for this project."
      ],
      "metadata": {
        "id": "vVQFp6Rtze6P"
      }
    },
    {
      "cell_type": "markdown",
      "source": [
        "**Research Questions**\n",
        "\n",
        "A question I hope to answer with this data:\n",
        "\n",
        "1. What factors are correlated with successful bookings? Including:\n",
        "  \n",
        "  - Geographic location of the patient\n",
        "  - Time taken to book appointment after request\n",
        "    - Time taken to contact patient after request\n",
        "  - Type of scan\n",
        "  - Number of previous cancellations (if any)\n",
        "  - Channel: B2B vs B2C\n"
      ],
      "metadata": {
        "id": "BcaLPX7i2Lwn"
      }
    },
    {
      "cell_type": "markdown",
      "source": [
        "**Why this data set is correct for answering the above**\n",
        "\n",
        "The data set contains variables for all factors included in my branched-off research questions. I have over 70k scan requests to work with, which will yield valid statistics."
      ],
      "metadata": {
        "id": "israRoyjM48j"
      }
    },
    {
      "cell_type": "markdown",
      "source": [
        "# Cleaning up the data"
      ],
      "metadata": {
        "id": "55hrjH_WGGwK"
      }
    },
    {
      "cell_type": "markdown",
      "source": [
        "Since each observation is identified by the request ID, I'll make `TestRequestID` the index:"
      ],
      "metadata": {
        "id": "OIXU8RFt9Y-_"
      }
    },
    {
      "cell_type": "code",
      "source": [
        "df.set_index(\"TestRequestID\", inplace = True)"
      ],
      "metadata": {
        "id": "-h2Z2Vt98mpy"
      },
      "execution_count": 7,
      "outputs": []
    },
    {
      "cell_type": "markdown",
      "source": [
        "I'll drop the `Latitude` and `Longitude` columns, since the data set already includes the state and zip code, so it's redundant to have all."
      ],
      "metadata": {
        "id": "vi8seVHYEk5H"
      }
    },
    {
      "cell_type": "code",
      "source": [
        "df = df.drop(columns=['Latitude', 'Longitude'])"
      ],
      "metadata": {
        "id": "z4VfnH0P-PXI"
      },
      "execution_count": 8,
      "outputs": []
    },
    {
      "cell_type": "markdown",
      "source": [
        "The column `HasReportFile` is currently represented as Boolean (1 and 0), but would be more readable with values \"Yes\" and \"No\" instead."
      ],
      "metadata": {
        "id": "22dHBsqdGNnO"
      }
    },
    {
      "cell_type": "code",
      "source": [
        "df['HasReportFile'] = df['HasReportFile'].map({\n",
        "    0: \"No\",\n",
        "    1: \"Yes\"\n",
        "})"
      ],
      "metadata": {
        "id": "CmQo4a7mFak4"
      },
      "execution_count": 9,
      "outputs": []
    },
    {
      "cell_type": "markdown",
      "source": [
        "Since I'll be looking at the time between `DateRequested` and `DateBooked`, I'm going to create a new column in the DataFrame called `BookingTime` that represents this difference:"
      ],
      "metadata": {
        "id": "WICtL_TQ0rvk"
      }
    },
    {
      "cell_type": "code",
      "source": [
        "df[\"BookingTime\"] = df[\"DateBooked\"] - df[\"DateRequested\"]"
      ],
      "metadata": {
        "id": "cgyH4FdzzuND"
      },
      "execution_count": 71,
      "outputs": []
    },
    {
      "cell_type": "markdown",
      "source": [
        "Data related to tasks and comments are not relevant to my research questions, so I am going to exclude that data as well:"
      ],
      "metadata": {
        "id": "2rUE6VyNGGdA"
      }
    },
    {
      "cell_type": "code",
      "source": [
        "df = df.drop(columns=['InternalTasks', 'ExternalTasks', 'InternalComments', 'B2BComments', 'ICComments'])"
      ],
      "metadata": {
        "id": "vMTT65KfF3yz"
      },
      "execution_count": 12,
      "outputs": []
    },
    {
      "cell_type": "markdown",
      "source": [
        "## The `State` variable:"
      ],
      "metadata": {
        "id": "9xSN-OcV9Q35"
      }
    },
    {
      "cell_type": "markdown",
      "source": [
        "Since I am interested in the relationship between successful bookings and geographic location, I'll start by taking a look at data related to requests by state:"
      ],
      "metadata": {
        "id": "0fC-aKGrpVmz"
      }
    },
    {
      "cell_type": "code",
      "source": [
        "df[[\"State\"]].describe()"
      ],
      "metadata": {
        "colab": {
          "base_uri": "https://localhost:8080/",
          "height": 175
        },
        "id": "guHDb_iBm-BP",
        "outputId": "191e4882-f183-47e5-c58f-89440c30246a"
      },
      "execution_count": 13,
      "outputs": [
        {
          "output_type": "execute_result",
          "data": {
            "text/plain": [
              "        State\n",
              "count   75390\n",
              "unique     49\n",
              "top        NY\n",
              "freq    45374"
            ],
            "text/html": [
              "\n",
              "  <div id=\"df-15253854-4e8d-4fea-b8f8-860d25dc06fd\" class=\"colab-df-container\">\n",
              "    <div>\n",
              "<style scoped>\n",
              "    .dataframe tbody tr th:only-of-type {\n",
              "        vertical-align: middle;\n",
              "    }\n",
              "\n",
              "    .dataframe tbody tr th {\n",
              "        vertical-align: top;\n",
              "    }\n",
              "\n",
              "    .dataframe thead th {\n",
              "        text-align: right;\n",
              "    }\n",
              "</style>\n",
              "<table border=\"1\" class=\"dataframe\">\n",
              "  <thead>\n",
              "    <tr style=\"text-align: right;\">\n",
              "      <th></th>\n",
              "      <th>State</th>\n",
              "    </tr>\n",
              "  </thead>\n",
              "  <tbody>\n",
              "    <tr>\n",
              "      <th>count</th>\n",
              "      <td>75390</td>\n",
              "    </tr>\n",
              "    <tr>\n",
              "      <th>unique</th>\n",
              "      <td>49</td>\n",
              "    </tr>\n",
              "    <tr>\n",
              "      <th>top</th>\n",
              "      <td>NY</td>\n",
              "    </tr>\n",
              "    <tr>\n",
              "      <th>freq</th>\n",
              "      <td>45374</td>\n",
              "    </tr>\n",
              "  </tbody>\n",
              "</table>\n",
              "</div>\n",
              "    <div class=\"colab-df-buttons\">\n",
              "\n",
              "  <div class=\"colab-df-container\">\n",
              "    <button class=\"colab-df-convert\" onclick=\"convertToInteractive('df-15253854-4e8d-4fea-b8f8-860d25dc06fd')\"\n",
              "            title=\"Convert this dataframe to an interactive table.\"\n",
              "            style=\"display:none;\">\n",
              "\n",
              "  <svg xmlns=\"http://www.w3.org/2000/svg\" height=\"24px\" viewBox=\"0 -960 960 960\">\n",
              "    <path d=\"M120-120v-720h720v720H120Zm60-500h600v-160H180v160Zm220 220h160v-160H400v160Zm0 220h160v-160H400v160ZM180-400h160v-160H180v160Zm440 0h160v-160H620v160ZM180-180h160v-160H180v160Zm440 0h160v-160H620v160Z\"/>\n",
              "  </svg>\n",
              "    </button>\n",
              "\n",
              "  <style>\n",
              "    .colab-df-container {\n",
              "      display:flex;\n",
              "      gap: 12px;\n",
              "    }\n",
              "\n",
              "    .colab-df-convert {\n",
              "      background-color: #E8F0FE;\n",
              "      border: none;\n",
              "      border-radius: 50%;\n",
              "      cursor: pointer;\n",
              "      display: none;\n",
              "      fill: #1967D2;\n",
              "      height: 32px;\n",
              "      padding: 0 0 0 0;\n",
              "      width: 32px;\n",
              "    }\n",
              "\n",
              "    .colab-df-convert:hover {\n",
              "      background-color: #E2EBFA;\n",
              "      box-shadow: 0px 1px 2px rgba(60, 64, 67, 0.3), 0px 1px 3px 1px rgba(60, 64, 67, 0.15);\n",
              "      fill: #174EA6;\n",
              "    }\n",
              "\n",
              "    .colab-df-buttons div {\n",
              "      margin-bottom: 4px;\n",
              "    }\n",
              "\n",
              "    [theme=dark] .colab-df-convert {\n",
              "      background-color: #3B4455;\n",
              "      fill: #D2E3FC;\n",
              "    }\n",
              "\n",
              "    [theme=dark] .colab-df-convert:hover {\n",
              "      background-color: #434B5C;\n",
              "      box-shadow: 0px 1px 3px 1px rgba(0, 0, 0, 0.15);\n",
              "      filter: drop-shadow(0px 1px 2px rgba(0, 0, 0, 0.3));\n",
              "      fill: #FFFFFF;\n",
              "    }\n",
              "  </style>\n",
              "\n",
              "    <script>\n",
              "      const buttonEl =\n",
              "        document.querySelector('#df-15253854-4e8d-4fea-b8f8-860d25dc06fd button.colab-df-convert');\n",
              "      buttonEl.style.display =\n",
              "        google.colab.kernel.accessAllowed ? 'block' : 'none';\n",
              "\n",
              "      async function convertToInteractive(key) {\n",
              "        const element = document.querySelector('#df-15253854-4e8d-4fea-b8f8-860d25dc06fd');\n",
              "        const dataTable =\n",
              "          await google.colab.kernel.invokeFunction('convertToInteractive',\n",
              "                                                    [key], {});\n",
              "        if (!dataTable) return;\n",
              "\n",
              "        const docLinkHtml = 'Like what you see? Visit the ' +\n",
              "          '<a target=\"_blank\" href=https://colab.research.google.com/notebooks/data_table.ipynb>data table notebook</a>'\n",
              "          + ' to learn more about interactive tables.';\n",
              "        element.innerHTML = '';\n",
              "        dataTable['output_type'] = 'display_data';\n",
              "        await google.colab.output.renderOutput(dataTable, element);\n",
              "        const docLink = document.createElement('div');\n",
              "        docLink.innerHTML = docLinkHtml;\n",
              "        element.appendChild(docLink);\n",
              "      }\n",
              "    </script>\n",
              "  </div>\n",
              "\n",
              "\n",
              "<div id=\"df-95ce614b-668c-4583-941b-ce027db565e6\">\n",
              "  <button class=\"colab-df-quickchart\" onclick=\"quickchart('df-95ce614b-668c-4583-941b-ce027db565e6')\"\n",
              "            title=\"Suggest charts\"\n",
              "            style=\"display:none;\">\n",
              "\n",
              "<svg xmlns=\"http://www.w3.org/2000/svg\" height=\"24px\"viewBox=\"0 0 24 24\"\n",
              "     width=\"24px\">\n",
              "    <g>\n",
              "        <path d=\"M19 3H5c-1.1 0-2 .9-2 2v14c0 1.1.9 2 2 2h14c1.1 0 2-.9 2-2V5c0-1.1-.9-2-2-2zM9 17H7v-7h2v7zm4 0h-2V7h2v10zm4 0h-2v-4h2v4z\"/>\n",
              "    </g>\n",
              "</svg>\n",
              "  </button>\n",
              "\n",
              "<style>\n",
              "  .colab-df-quickchart {\n",
              "      --bg-color: #E8F0FE;\n",
              "      --fill-color: #1967D2;\n",
              "      --hover-bg-color: #E2EBFA;\n",
              "      --hover-fill-color: #174EA6;\n",
              "      --disabled-fill-color: #AAA;\n",
              "      --disabled-bg-color: #DDD;\n",
              "  }\n",
              "\n",
              "  [theme=dark] .colab-df-quickchart {\n",
              "      --bg-color: #3B4455;\n",
              "      --fill-color: #D2E3FC;\n",
              "      --hover-bg-color: #434B5C;\n",
              "      --hover-fill-color: #FFFFFF;\n",
              "      --disabled-bg-color: #3B4455;\n",
              "      --disabled-fill-color: #666;\n",
              "  }\n",
              "\n",
              "  .colab-df-quickchart {\n",
              "    background-color: var(--bg-color);\n",
              "    border: none;\n",
              "    border-radius: 50%;\n",
              "    cursor: pointer;\n",
              "    display: none;\n",
              "    fill: var(--fill-color);\n",
              "    height: 32px;\n",
              "    padding: 0;\n",
              "    width: 32px;\n",
              "  }\n",
              "\n",
              "  .colab-df-quickchart:hover {\n",
              "    background-color: var(--hover-bg-color);\n",
              "    box-shadow: 0 1px 2px rgba(60, 64, 67, 0.3), 0 1px 3px 1px rgba(60, 64, 67, 0.15);\n",
              "    fill: var(--button-hover-fill-color);\n",
              "  }\n",
              "\n",
              "  .colab-df-quickchart-complete:disabled,\n",
              "  .colab-df-quickchart-complete:disabled:hover {\n",
              "    background-color: var(--disabled-bg-color);\n",
              "    fill: var(--disabled-fill-color);\n",
              "    box-shadow: none;\n",
              "  }\n",
              "\n",
              "  .colab-df-spinner {\n",
              "    border: 2px solid var(--fill-color);\n",
              "    border-color: transparent;\n",
              "    border-bottom-color: var(--fill-color);\n",
              "    animation:\n",
              "      spin 1s steps(1) infinite;\n",
              "  }\n",
              "\n",
              "  @keyframes spin {\n",
              "    0% {\n",
              "      border-color: transparent;\n",
              "      border-bottom-color: var(--fill-color);\n",
              "      border-left-color: var(--fill-color);\n",
              "    }\n",
              "    20% {\n",
              "      border-color: transparent;\n",
              "      border-left-color: var(--fill-color);\n",
              "      border-top-color: var(--fill-color);\n",
              "    }\n",
              "    30% {\n",
              "      border-color: transparent;\n",
              "      border-left-color: var(--fill-color);\n",
              "      border-top-color: var(--fill-color);\n",
              "      border-right-color: var(--fill-color);\n",
              "    }\n",
              "    40% {\n",
              "      border-color: transparent;\n",
              "      border-right-color: var(--fill-color);\n",
              "      border-top-color: var(--fill-color);\n",
              "    }\n",
              "    60% {\n",
              "      border-color: transparent;\n",
              "      border-right-color: var(--fill-color);\n",
              "    }\n",
              "    80% {\n",
              "      border-color: transparent;\n",
              "      border-right-color: var(--fill-color);\n",
              "      border-bottom-color: var(--fill-color);\n",
              "    }\n",
              "    90% {\n",
              "      border-color: transparent;\n",
              "      border-bottom-color: var(--fill-color);\n",
              "    }\n",
              "  }\n",
              "</style>\n",
              "\n",
              "  <script>\n",
              "    async function quickchart(key) {\n",
              "      const quickchartButtonEl =\n",
              "        document.querySelector('#' + key + ' button');\n",
              "      quickchartButtonEl.disabled = true;  // To prevent multiple clicks.\n",
              "      quickchartButtonEl.classList.add('colab-df-spinner');\n",
              "      try {\n",
              "        const charts = await google.colab.kernel.invokeFunction(\n",
              "            'suggestCharts', [key], {});\n",
              "      } catch (error) {\n",
              "        console.error('Error during call to suggestCharts:', error);\n",
              "      }\n",
              "      quickchartButtonEl.classList.remove('colab-df-spinner');\n",
              "      quickchartButtonEl.classList.add('colab-df-quickchart-complete');\n",
              "    }\n",
              "    (() => {\n",
              "      let quickchartButtonEl =\n",
              "        document.querySelector('#df-95ce614b-668c-4583-941b-ce027db565e6 button');\n",
              "      quickchartButtonEl.style.display =\n",
              "        google.colab.kernel.accessAllowed ? 'block' : 'none';\n",
              "    })();\n",
              "  </script>\n",
              "</div>\n",
              "    </div>\n",
              "  </div>\n"
            ],
            "application/vnd.google.colaboratory.intrinsic+json": {
              "type": "dataframe",
              "summary": "{\n  \"name\": \"df[[\\\"State\\\"]]\",\n  \"rows\": 4,\n  \"fields\": [\n    {\n      \"column\": \"State\",\n      \"properties\": {\n        \"dtype\": \"string\",\n        \"num_unique_values\": 4,\n        \"samples\": [\n          49,\n          \"45374\",\n          \"75390\"\n        ],\n        \"semantic_type\": \"\",\n        \"description\": \"\"\n      }\n    }\n  ]\n}"
            }
          },
          "metadata": {},
          "execution_count": 13
        }
      ]
    },
    {
      "cell_type": "markdown",
      "source": [
        "New York leads the states in the total amount of requests at 45,374, which is 59.77% of all requests:"
      ],
      "metadata": {
        "id": "0ZYgvZ06_Qiq"
      }
    },
    {
      "cell_type": "code",
      "source": [
        "percent = (df['State'].value_counts()[\"NY\"]) / (len(df))\n",
        "print(f\"{percent:.2%}\")"
      ],
      "metadata": {
        "colab": {
          "base_uri": "https://localhost:8080/"
        },
        "id": "bj21Cd15nf6w",
        "outputId": "ac8ec883-8685-431e-828a-484cf3986711"
      },
      "execution_count": 14,
      "outputs": [
        {
          "output_type": "stream",
          "name": "stdout",
          "text": [
            "59.77%\n"
          ]
        }
      ]
    },
    {
      "cell_type": "markdown",
      "source": [
        "Next, I'll generate a graph showing the percentage distribution of requests by state:"
      ],
      "metadata": {
        "id": "oE0OevhRuH55"
      }
    },
    {
      "cell_type": "code",
      "source": [
        "state_counts = df['State'].value_counts()\n",
        "state_percentages = state_counts / (len(df)) * 100"
      ],
      "metadata": {
        "id": "uq1Dlm8jrJZ9"
      },
      "execution_count": 30,
      "outputs": []
    },
    {
      "cell_type": "code",
      "source": [
        "state_percentages.plot.bar(figsize=(20, 10), ylabel='Percentage of test requests', xlabel='State')"
      ],
      "metadata": {
        "colab": {
          "base_uri": "https://localhost:8080/",
          "height": 572
        },
        "id": "2pOQuvN0rI4x",
        "outputId": "c738e64c-6845-4072-f067-84f782b6dc60"
      },
      "execution_count": 31,
      "outputs": [
        {
          "output_type": "execute_result",
          "data": {
            "text/plain": [
              "<Axes: xlabel='State', ylabel='Percentage of test requests'>"
            ]
          },
          "metadata": {},
          "execution_count": 31
        },
        {
          "output_type": "display_data",
          "data": {
            "text/plain": [
              "<Figure size 2000x1000 with 1 Axes>"
            ],
            "image/png": "[encoded data removed]"
          },
          "metadata": {}
        }
      ]
    },
    {
      "cell_type": "markdown",
      "source": [
        "The leading states are: New York, Florida, and New Jersey.\n",
        "\n"
      ],
      "metadata": {
        "id": "gVMdOG7OAobF"
      }
    },
    {
      "cell_type": "markdown",
      "source": [
        "A lot of the states are negligible in the context of this data set, so I'll create a new graph with the 12 states that have the most scans, so the graph is more to scale:"
      ],
      "metadata": {
        "id": "c9kcJH4T2jtS"
      }
    },
    {
      "cell_type": "code",
      "source": [
        "state_counts_2 = state_counts[[\"NY\", \"FL\", \"NJ\", \"TX\", \"VA\", \"CA\", \"PA\", \"MA\", \"CT\", \"IL\", \"MD\",\n",
        "                \"GA\"]]\n",
        "state_percentages_2 = state_counts_2 / (len(df)) * 100\n",
        "state_percentages_2.plot.bar(figsize=(20, 10), ylabel='Percentage of test requests', xlabel='State')"
      ],
      "metadata": {
        "colab": {
          "base_uri": "https://localhost:8080/",
          "height": 572
        },
        "id": "F8oAeuw82iz4",
        "outputId": "e3f52a99-cee9-4d0d-8b05-23e8c722f633"
      },
      "execution_count": 61,
      "outputs": [
        {
          "output_type": "execute_result",
          "data": {
            "text/plain": [
              "<Axes: xlabel='State', ylabel='Percentage of test requests'>"
            ]
          },
          "metadata": {},
          "execution_count": 61
        },
        {
          "output_type": "display_data",
          "data": {
            "text/plain": [
              "<Figure size 2000x1000 with 1 Axes>"
            ],
            "image/png": "[encoded data removed]"
          },
          "metadata": {}
        }
      ]
    },
    {
      "cell_type": "markdown",
      "source": [
        "# \"Successful\" Requests"
      ],
      "metadata": {
        "id": "QanHVy8MC4Y3"
      }
    },
    {
      "cell_type": "markdown",
      "source": [
        "Throughout this report I will refer to requests as \"successful\", so let's define and find out some information about that. A successful request is a scan that is at the scheduling stage or beyond: it is scheduled or completed. What's the percentage of scan requests that fall into this category?"
      ],
      "metadata": {
        "id": "-XHs3yceOVdL"
      }
    },
    {
      "cell_type": "code",
      "source": [
        "df_scheduled_completed = df[(df[\"StageName\"] == \"Scheduled\") | (df[\"StageName\"] == \"Completed\")]\n",
        "print(f\"{(len(df_scheduled_completed) / len(df)):.2%}\")"
      ],
      "metadata": {
        "colab": {
          "base_uri": "https://localhost:8080/"
        },
        "id": "uZb0GdGoKlCc",
        "outputId": "2e6c526e-9825-426d-ae87-5babb577cd89"
      },
      "execution_count": 62,
      "outputs": [
        {
          "output_type": "stream",
          "name": "stdout",
          "text": [
            "57.51%\n"
          ]
        }
      ]
    },
    {
      "cell_type": "markdown",
      "source": [
        "The \"best-case scenario\" for a scan request is one that is not only scheduled/completed, but has a report file attached. Let's see what percent of requests are at the best-case level:"
      ],
      "metadata": {
        "id": "RSuThuxxOsV4"
      }
    },
    {
      "cell_type": "code",
      "source": [
        "best_case = df_scheduled_completed[df_scheduled_completed[\"HasReportFile\"] == \"Yes\"]\n",
        "print(f\"{(len(best_case) / len(df)):.2%}\")"
      ],
      "metadata": {
        "colab": {
          "base_uri": "https://localhost:8080/"
        },
        "id": "1QcYDoB471Ab",
        "outputId": "7c2c7959-6746-400e-8027-d0a9555f3700"
      },
      "execution_count": 63,
      "outputs": [
        {
          "output_type": "stream",
          "name": "stdout",
          "text": [
            "36.42%\n"
          ]
        }
      ]
    },
    {
      "cell_type": "markdown",
      "source": [
        "# The `Modality` variable:"
      ],
      "metadata": {
        "id": "vv0ztFwUDBjF"
      }
    },
    {
      "cell_type": "markdown",
      "source": [
        "Next, let's look at the concentrations of scan types. Amount of scheduled and completed scan requests per type of scan (`modality` variable):"
      ],
      "metadata": {
        "id": "xujH3LE0YkK-"
      }
    },
    {
      "cell_type": "code",
      "source": [
        "counts = df_scheduled_completed['Modality'].value_counts()\n",
        "counts.plot.bar(figsize=(20, 10), ylabel='Number of Scan Requests', xlabel='Type of Scan (Modality)')"
      ],
      "metadata": {
        "colab": {
          "base_uri": "https://localhost:8080/",
          "height": 607
        },
        "id": "mTuYGKXOTGPg",
        "outputId": "3189fa49-a14f-4216-a349-2cab64e86610"
      },
      "execution_count": 64,
      "outputs": [
        {
          "output_type": "execute_result",
          "data": {
            "text/plain": [
              "<Axes: xlabel='Type of Scan (Modality)', ylabel='Number of Scan Requests'>"
            ]
          },
          "metadata": {},
          "execution_count": 64
        },
        {
          "output_type": "display_data",
          "data": {
            "text/plain": [
              "<Figure size 2000x1000 with 1 Axes>"
            ],
            "image/png": "[encoded data removed]"
          },
          "metadata": {}
        }
      ]
    },
    {
      "cell_type": "markdown",
      "source": [
        "From this bar graph, we can see that Ultrasound is by far the most popular scan out of all those scheduled and completed, followed by MRI and Mammogram. Let's see what percentage this is vs. the percentage of Ultrasounds in all scans:"
      ],
      "metadata": {
        "id": "9fOIJQBtYwzw"
      }
    },
    {
      "cell_type": "code",
      "source": [
        "percent_ultrasound_success = len(df_scheduled_completed[df_scheduled_completed[\"Modality\"] == \"Ultrasound\"])/len(df_scheduled_completed)\n",
        "print(f\"{percent_ultrasound_success:.2%}\")"
      ],
      "metadata": {
        "colab": {
          "base_uri": "https://localhost:8080/"
        },
        "id": "JpcQXkfJY5x6",
        "outputId": "c1449b6c-ec7f-442f-d9e8-fd4ca00de164"
      },
      "execution_count": 65,
      "outputs": [
        {
          "output_type": "stream",
          "name": "stdout",
          "text": [
            "38.57%\n"
          ]
        }
      ]
    },
    {
      "cell_type": "code",
      "source": [
        "percent_all_ultrasounds = len(df[df[\"Modality\"] == \"Ultrasound\"])/len(df)\n",
        "print(f\"{percent_all_ultrasounds:.2%}\")"
      ],
      "metadata": {
        "colab": {
          "base_uri": "https://localhost:8080/"
        },
        "id": "a_gSKgf3ZsJ3",
        "outputId": "9d0a3a88-1c53-40a7-9990-1e570564812a"
      },
      "execution_count": 66,
      "outputs": [
        {
          "output_type": "stream",
          "name": "stdout",
          "text": [
            "34.64%\n"
          ]
        }
      ]
    },
    {
      "cell_type": "markdown",
      "source": [
        "Ultrasounds make up about a third of all scan requests. There isn't much difference in the percent of Ultrasounds between the \"all scans\" group and the \"successful\" group."
      ],
      "metadata": {
        "id": "l8Pt4DMgaHX4"
      }
    },
    {
      "cell_type": "markdown",
      "source": [
        "# Time variables:"
      ],
      "metadata": {
        "id": "HNyWGCVBDJQE"
      }
    },
    {
      "cell_type": "markdown",
      "source": [
        "Next, let's look at the `TimeToA1Completion` variable, which is the time the company took to contact the patient (in minutes). A lot of these values are NaNs because that information was not always collected, so I'll create a new DataFrame without those observations for this section, and still preserve the original `df` because those observations are necessary for other computations and graphs."
      ],
      "metadata": {
        "id": "XZ0-deP7b7CV"
      }
    },
    {
      "cell_type": "code",
      "source": [
        "df_timetoa1 = df.dropna(subset=[\"TimeToA1Completion\"])"
      ],
      "metadata": {
        "id": "0wak_eRxa718"
      },
      "execution_count": 67,
      "outputs": []
    },
    {
      "cell_type": "code",
      "source": [
        "df_timetoa1[[\"TimeToA1Completion\"]].describe()"
      ],
      "metadata": {
        "colab": {
          "base_uri": "https://localhost:8080/",
          "height": 300
        },
        "id": "khwteZCtc-R3",
        "outputId": "93f8cb1c-724c-4f92-f90e-a16b4e56a25a"
      },
      "execution_count": 68,
      "outputs": [
        {
          "output_type": "execute_result",
          "data": {
            "text/plain": [
              "       TimeToA1Completion\n",
              "count        10644.000000\n",
              "mean            46.669109\n",
              "std            180.496039\n",
              "min              0.000000\n",
              "25%              0.000000\n",
              "50%             14.000000\n",
              "75%             46.000000\n",
              "max           5884.000000"
            ],
            "text/html": [
              "\n",
              "  <div id=\"df-9bbb3aa7-0af4-4f6b-8cb7-8bfa8a9f9045\" class=\"colab-df-container\">\n",
              "    <div>\n",
              "<style scoped>\n",
              "    .dataframe tbody tr th:only-of-type {\n",
              "        vertical-align: middle;\n",
              "    }\n",
              "\n",
              "    .dataframe tbody tr th {\n",
              "        vertical-align: top;\n",
              "    }\n",
              "\n",
              "    .dataframe thead th {\n",
              "        text-align: right;\n",
              "    }\n",
              "</style>\n",
              "<table border=\"1\" class=\"dataframe\">\n",
              "  <thead>\n",
              "    <tr style=\"text-align: right;\">\n",
              "      <th></th>\n",
              "      <th>TimeToA1Completion</th>\n",
              "    </tr>\n",
              "  </thead>\n",
              "  <tbody>\n",
              "    <tr>\n",
              "      <th>count</th>\n",
              "      <td>10644.000000</td>\n",
              "    </tr>\n",
              "    <tr>\n",
              "      <th>mean</th>\n",
              "      <td>46.669109</td>\n",
              "    </tr>\n",
              "    <tr>\n",
              "      <th>std</th>\n",
              "      <td>180.496039</td>\n",
              "    </tr>\n",
              "    <tr>\n",
              "      <th>min</th>\n",
              "      <td>0.000000</td>\n",
              "    </tr>\n",
              "    <tr>\n",
              "      <th>25%</th>\n",
              "      <td>0.000000</td>\n",
              "    </tr>\n",
              "    <tr>\n",
              "      <th>50%</th>\n",
              "      <td>14.000000</td>\n",
              "    </tr>\n",
              "    <tr>\n",
              "      <th>75%</th>\n",
              "      <td>46.000000</td>\n",
              "    </tr>\n",
              "    <tr>\n",
              "      <th>max</th>\n",
              "      <td>5884.000000</td>\n",
              "    </tr>\n",
              "  </tbody>\n",
              "</table>\n",
              "</div>\n",
              "    <div class=\"colab-df-buttons\">\n",
              "\n",
              "  <div class=\"colab-df-container\">\n",
              "    <button class=\"colab-df-convert\" onclick=\"convertToInteractive('df-9bbb3aa7-0af4-4f6b-8cb7-8bfa8a9f9045')\"\n",
              "            title=\"Convert this dataframe to an interactive table.\"\n",
              "            style=\"display:none;\">\n",
              "\n",
              "  <svg xmlns=\"http://www.w3.org/2000/svg\" height=\"24px\" viewBox=\"0 -960 960 960\">\n",
              "    <path d=\"M120-120v-720h720v720H120Zm60-500h600v-160H180v160Zm220 220h160v-160H400v160Zm0 220h160v-160H400v160ZM180-400h160v-160H180v160Zm440 0h160v-160H620v160ZM180-180h160v-160H180v160Zm440 0h160v-160H620v160Z\"/>\n",
              "  </svg>\n",
              "    </button>\n",
              "\n",
              "  <style>\n",
              "    .colab-df-container {\n",
              "      display:flex;\n",
              "      gap: 12px;\n",
              "    }\n",
              "\n",
              "    .colab-df-convert {\n",
              "      background-color: #E8F0FE;\n",
              "      border: none;\n",
              "      border-radius: 50%;\n",
              "      cursor: pointer;\n",
              "      display: none;\n",
              "      fill: #1967D2;\n",
              "      height: 32px;\n",
              "      padding: 0 0 0 0;\n",
              "      width: 32px;\n",
              "    }\n",
              "\n",
              "    .colab-df-convert:hover {\n",
              "      background-color: #E2EBFA;\n",
              "      box-shadow: 0px 1px 2px rgba(60, 64, 67, 0.3), 0px 1px 3px 1px rgba(60, 64, 67, 0.15);\n",
              "      fill: #174EA6;\n",
              "    }\n",
              "\n",
              "    .colab-df-buttons div {\n",
              "      margin-bottom: 4px;\n",
              "    }\n",
              "\n",
              "    [theme=dark] .colab-df-convert {\n",
              "      background-color: #3B4455;\n",
              "      fill: #D2E3FC;\n",
              "    }\n",
              "\n",
              "    [theme=dark] .colab-df-convert:hover {\n",
              "      background-color: #434B5C;\n",
              "      box-shadow: 0px 1px 3px 1px rgba(0, 0, 0, 0.15);\n",
              "      filter: drop-shadow(0px 1px 2px rgba(0, 0, 0, 0.3));\n",
              "      fill: #FFFFFF;\n",
              "    }\n",
              "  </style>\n",
              "\n",
              "    <script>\n",
              "      const buttonEl =\n",
              "        document.querySelector('#df-9bbb3aa7-0af4-4f6b-8cb7-8bfa8a9f9045 button.colab-df-convert');\n",
              "      buttonEl.style.display =\n",
              "        google.colab.kernel.accessAllowed ? 'block' : 'none';\n",
              "\n",
              "      async function convertToInteractive(key) {\n",
              "        const element = document.querySelector('#df-9bbb3aa7-0af4-4f6b-8cb7-8bfa8a9f9045');\n",
              "        const dataTable =\n",
              "          await google.colab.kernel.invokeFunction('convertToInteractive',\n",
              "                                                    [key], {});\n",
              "        if (!dataTable) return;\n",
              "\n",
              "        const docLinkHtml = 'Like what you see? Visit the ' +\n",
              "          '<a target=\"_blank\" href=https://colab.research.google.com/notebooks/data_table.ipynb>data table notebook</a>'\n",
              "          + ' to learn more about interactive tables.';\n",
              "        element.innerHTML = '';\n",
              "        dataTable['output_type'] = 'display_data';\n",
              "        await google.colab.output.renderOutput(dataTable, element);\n",
              "        const docLink = document.createElement('div');\n",
              "        docLink.innerHTML = docLinkHtml;\n",
              "        element.appendChild(docLink);\n",
              "      }\n",
              "    </script>\n",
              "  </div>\n",
              "\n",
              "\n",
              "<div id=\"df-eeea6da1-55d5-405b-8b4d-291be4c8e250\">\n",
              "  <button class=\"colab-df-quickchart\" onclick=\"quickchart('df-eeea6da1-55d5-405b-8b4d-291be4c8e250')\"\n",
              "            title=\"Suggest charts\"\n",
              "            style=\"display:none;\">\n",
              "\n",
              "<svg xmlns=\"http://www.w3.org/2000/svg\" height=\"24px\"viewBox=\"0 0 24 24\"\n",
              "     width=\"24px\">\n",
              "    <g>\n",
              "        <path d=\"M19 3H5c-1.1 0-2 .9-2 2v14c0 1.1.9 2 2 2h14c1.1 0 2-.9 2-2V5c0-1.1-.9-2-2-2zM9 17H7v-7h2v7zm4 0h-2V7h2v10zm4 0h-2v-4h2v4z\"/>\n",
              "    </g>\n",
              "</svg>\n",
              "  </button>\n",
              "\n",
              "<style>\n",
              "  .colab-df-quickchart {\n",
              "      --bg-color: #E8F0FE;\n",
              "      --fill-color: #1967D2;\n",
              "      --hover-bg-color: #E2EBFA;\n",
              "      --hover-fill-color: #174EA6;\n",
              "      --disabled-fill-color: #AAA;\n",
              "      --disabled-bg-color: #DDD;\n",
              "  }\n",
              "\n",
              "  [theme=dark] .colab-df-quickchart {\n",
              "      --bg-color: #3B4455;\n",
              "      --fill-color: #D2E3FC;\n",
              "      --hover-bg-color: #434B5C;\n",
              "      --hover-fill-color: #FFFFFF;\n",
              "      --disabled-bg-color: #3B4455;\n",
              "      --disabled-fill-color: #666;\n",
              "  }\n",
              "\n",
              "  .colab-df-quickchart {\n",
              "    background-color: var(--bg-color);\n",
              "    border: none;\n",
              "    border-radius: 50%;\n",
              "    cursor: pointer;\n",
              "    display: none;\n",
              "    fill: var(--fill-color);\n",
              "    height: 32px;\n",
              "    padding: 0;\n",
              "    width: 32px;\n",
              "  }\n",
              "\n",
              "  .colab-df-quickchart:hover {\n",
              "    background-color: var(--hover-bg-color);\n",
              "    box-shadow: 0 1px 2px rgba(60, 64, 67, 0.3), 0 1px 3px 1px rgba(60, 64, 67, 0.15);\n",
              "    fill: var(--button-hover-fill-color);\n",
              "  }\n",
              "\n",
              "  .colab-df-quickchart-complete:disabled,\n",
              "  .colab-df-quickchart-complete:disabled:hover {\n",
              "    background-color: var(--disabled-bg-color);\n",
              "    fill: var(--disabled-fill-color);\n",
              "    box-shadow: none;\n",
              "  }\n",
              "\n",
              "  .colab-df-spinner {\n",
              "    border: 2px solid var(--fill-color);\n",
              "    border-color: transparent;\n",
              "    border-bottom-color: var(--fill-color);\n",
              "    animation:\n",
              "      spin 1s steps(1) infinite;\n",
              "  }\n",
              "\n",
              "  @keyframes spin {\n",
              "    0% {\n",
              "      border-color: transparent;\n",
              "      border-bottom-color: var(--fill-color);\n",
              "      border-left-color: var(--fill-color);\n",
              "    }\n",
              "    20% {\n",
              "      border-color: transparent;\n",
              "      border-left-color: var(--fill-color);\n",
              "      border-top-color: var(--fill-color);\n",
              "    }\n",
              "    30% {\n",
              "      border-color: transparent;\n",
              "      border-left-color: var(--fill-color);\n",
              "      border-top-color: var(--fill-color);\n",
              "      border-right-color: var(--fill-color);\n",
              "    }\n",
              "    40% {\n",
              "      border-color: transparent;\n",
              "      border-right-color: var(--fill-color);\n",
              "      border-top-color: var(--fill-color);\n",
              "    }\n",
              "    60% {\n",
              "      border-color: transparent;\n",
              "      border-right-color: var(--fill-color);\n",
              "    }\n",
              "    80% {\n",
              "      border-color: transparent;\n",
              "      border-right-color: var(--fill-color);\n",
              "      border-bottom-color: var(--fill-color);\n",
              "    }\n",
              "    90% {\n",
              "      border-color: transparent;\n",
              "      border-bottom-color: var(--fill-color);\n",
              "    }\n",
              "  }\n",
              "</style>\n",
              "\n",
              "  <script>\n",
              "    async function quickchart(key) {\n",
              "      const quickchartButtonEl =\n",
              "        document.querySelector('#' + key + ' button');\n",
              "      quickchartButtonEl.disabled = true;  // To prevent multiple clicks.\n",
              "      quickchartButtonEl.classList.add('colab-df-spinner');\n",
              "      try {\n",
              "        const charts = await google.colab.kernel.invokeFunction(\n",
              "            'suggestCharts', [key], {});\n",
              "      } catch (error) {\n",
              "        console.error('Error during call to suggestCharts:', error);\n",
              "      }\n",
              "      quickchartButtonEl.classList.remove('colab-df-spinner');\n",
              "      quickchartButtonEl.classList.add('colab-df-quickchart-complete');\n",
              "    }\n",
              "    (() => {\n",
              "      let quickchartButtonEl =\n",
              "        document.querySelector('#df-eeea6da1-55d5-405b-8b4d-291be4c8e250 button');\n",
              "      quickchartButtonEl.style.display =\n",
              "        google.colab.kernel.accessAllowed ? 'block' : 'none';\n",
              "    })();\n",
              "  </script>\n",
              "</div>\n",
              "    </div>\n",
              "  </div>\n"
            ],
            "application/vnd.google.colaboratory.intrinsic+json": {
              "type": "dataframe",
              "summary": "{\n  \"name\": \"df_timetoa1[[\\\"TimeToA1Completion\\\"]]\",\n  \"rows\": 8,\n  \"fields\": [\n    {\n      \"column\": \"TimeToA1Completion\",\n      \"properties\": {\n        \"dtype\": \"number\",\n        \"std\": 4010.869846104124,\n        \"min\": 0.0,\n        \"max\": 10644.0,\n        \"num_unique_values\": 7,\n        \"samples\": [\n          10644.0,\n          46.66910935738444,\n          46.0\n        ],\n        \"semantic_type\": \"\",\n        \"description\": \"\"\n      }\n    }\n  ]\n}"
            }
          },
          "metadata": {},
          "execution_count": 68
        }
      ]
    },
    {
      "cell_type": "code",
      "source": [
        "# How long is 5884 minutes??\n",
        "5884/60/24"
      ],
      "metadata": {
        "colab": {
          "base_uri": "https://localhost:8080/"
        },
        "id": "Jkbxq-98eq0E",
        "outputId": "c3f2ef58-a7ed-4c4a-b464-ad1d5df7f58a"
      },
      "execution_count": 69,
      "outputs": [
        {
          "output_type": "execute_result",
          "data": {
            "text/plain": [
              "4.086111111111111"
            ]
          },
          "metadata": {},
          "execution_count": 69
        }
      ]
    },
    {
      "cell_type": "markdown",
      "source": [
        "From this table, we can gather that most patients were contacted within 15 minutes. The average time taken to contact patient is 45 minutes, however the longest time taken to do so was 5884 minutes = ~4 days. This outlier likely drove up the mean.\n",
        "\n",
        "Let's plot all test requests based on `TimeToA1Completion` and `BookingTime`:"
      ],
      "metadata": {
        "id": "cT5ddNxNehZL"
      }
    },
    {
      "cell_type": "code",
      "source": [
        "# This converts the time object to an integer number that represents the total amount\n",
        "# of minutes, which is the same scale as TimeToA1Completion:\n",
        "\n",
        "df[\"BookingTime\"] = df[\"BookingTime\"].dt.total_seconds().div(60)\n",
        "\n",
        "plt.scatter(df[\"TimeToA1Completion\"], df[\"BookingTime\"])\n",
        "\n",
        "plt.xlabel(\"Time Taken to Contact Patient\")\n",
        "plt.ylabel(\"Time Taken to Book (from Time Requested)\")\n",
        "\n",
        "plt.show()"
      ],
      "metadata": {
        "colab": {
          "base_uri": "https://localhost:8080/",
          "height": 449
        },
        "id": "fDdbWEwp5Xtr",
        "outputId": "6c815043-5884-45c5-ec1b-13a663406ce2"
      },
      "execution_count": 72,
      "outputs": [
        {
          "output_type": "display_data",
          "data": {
            "text/plain": [
              "<Figure size 640x480 with 1 Axes>"
            ],
            "image/png": "[encoded data removed]"
          },
          "metadata": {}
        }
      ]
    },
    {
      "cell_type": "markdown",
      "source": [
        "With this plot we can clearly see the outliers. Let's drop them and recreate the plot to get a better view of the bulk of the points:"
      ],
      "metadata": {
        "id": "724OxvmiBSYp"
      }
    },
    {
      "cell_type": "code",
      "source": [
        "df_sub_outlier = df[(df[\"TimeToA1Completion\"] < 1000)]"
      ],
      "metadata": {
        "id": "ZJFeJVY99Ov8"
      },
      "execution_count": 73,
      "outputs": []
    },
    {
      "cell_type": "code",
      "source": [
        "plt.scatter(df_sub_outlier[\"TimeToA1Completion\"], df_sub_outlier[\"BookingTime\"])\n",
        "\n",
        "plt.xlabel(\"Time Taken to Contact Patient\")\n",
        "plt.ylabel(\"Time Taken to Book (from Time Requested)\")\n",
        "\n",
        "plt.show()"
      ],
      "metadata": {
        "colab": {
          "base_uri": "https://localhost:8080/",
          "height": 449
        },
        "id": "4tUmUJri8Eg3",
        "outputId": "644b0b7a-69ba-4f0b-a149-cf358aadf504"
      },
      "execution_count": 74,
      "outputs": [
        {
          "output_type": "display_data",
          "data": {
            "text/plain": [
              "<Figure size 640x480 with 1 Axes>"
            ],
            "image/png": "[encoded data removed]"
          },
          "metadata": {}
        }
      ]
    },
    {
      "cell_type": "markdown",
      "source": [
        "# Model ideas:"
      ],
      "metadata": {
        "id": "bkW6sDxvI-0h"
      }
    },
    {
      "cell_type": "markdown",
      "source": [
        "1. I plan to use the state, modality, cancellations, and channel variables (IVs) to predict whether an appointment will be booked (DV). The prediction methodology I will use is <INSERT<\n",
        "\n",
        "2. I plan to use the following time variables to predict the likelihood of a requested appointment becoming completed (DV): time of request, time of patient contact, time of booking, time of appointment (IV). The prediction methodology I will use is <INSERT<"
      ],
      "metadata": {
        "id": "E5kYUi6RJHlF"
      }
    }
  ]
}